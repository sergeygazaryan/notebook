{
 "cells": [
  {
   "cell_type": "code",
   "execution_count": null,
   "id": "import-modules",
   "metadata": {},
   "outputs": [],
   "source": [
    "# Import necessary modules\n",
    "import logging\n",
    "from pyspark.sql import SparkSession\n",
    "\n",
    "# Configure logging\n",
    "logging.basicConfig(level=logging.INFO)\n",
    "logger = logging.getLogger(__name__)\n",
    "\n",
    "# Initialize SparkSession\n",
    "spark = SparkSession.builder.appName(\"RDD Example from Array\").getOrCreate()\n",
    "\n",
    "# Example data array (Python list)\n",
    "data_array = [\"Apache Spark\", \"is\", \"a unified analytics engine\", \"for large-scale data processing.\"]\n",
    "\n",
    "# Parallelize the data array to create an RDD (Resilient Distributed Dataset)\n",
    "rdd = spark.sparkContext.parallelize(data_array)\n",
    "\n",
    "# Count the number of elements (items) in the RDD\n",
    "num_elements = rdd.count()\n",
    "logger.info(f\"Number of elements in the RDD: {num_elements}\")\n",
    "\n",
    "# Count the total number of words across all items in the RDD\n",
    "# - flatMap is used to split each string into words, creating a flat list of words\n",
    "# - count then counts the total number of words\n",
    "num_words = rdd.flatMap(lambda line: line.split(\" \")).count()\n",
    "logger.info(f\"Number of words in the RDD: {num_words}\")\n",
    "\n",
    "# Stop the SparkSession to free up resources\n",
    "spark.stop()"
   ]
  }
 ],
 "metadata": {
  "kernelspec": {
   "display_name": "Python 3",
   "language": "python",
   "name": "python3"
  },
  "language_info": {
   "codemirror_mode": {
    "name": "ipython",
    "version": 3
   },
   "file_extension": ".py",
   "mimetype": "text/x-python",
   "name": "python",
   "nbconvert_exporter": "python",
   "pygments_lexer": "ipython3",
   "version": "3.8.5"
  }
 },
 "nbformat": 4,
 "nbformat_minor": 5
}
