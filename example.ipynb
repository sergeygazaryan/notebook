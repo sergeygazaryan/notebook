{
 "cells": [
  {
   "cell_type": "code",
   "execution_count": 1,
   "id": "13bbf556-9acb-421e-9bc8-c8ab55c0099d",
   "metadata": {
    "execution": {
     "iopub.execute_input": "2023-10-31T04:25:01.304116Z",
     "iopub.status.busy": "2023-10-31T04:25:01.302253Z",
     "iopub.status.idle": "2023-10-31T04:25:14.488087Z",
     "shell.execute_reply": "2023-10-31T04:25:14.486136Z",
     "shell.execute_reply.started": "2023-10-31T04:25:01.304050Z"
    },
    "tags": []
   },
   "outputs": [
    {
     "name": "stdout",
     "output_type": "stream",
     "text": [
      "Loading spark"
     ]
    }
   ],
   "source": [
    "tables = [\n",
    "    [\"behavior\", \"Append\"],\n",
    "    [\"channel\", \"Overwrite\"],\n",
    "    [\"channelMsg\", \"Overwrite\"],\n",
    "    [\"channelTag\", \"Overwrite\"],\n",
    "    [\"epg\", \"Append\"],\n",
    "    [\"favorites\", \"Overwrite\"],\n",
    "    [\"movie\", \"Overwrite\"],\n",
    "    [\"package\", \"Overwrite\"],\n",
    "    [\"packageChannel\", \"Overwrite\"],\n",
    "    [\"purchase\", \"Overwrite\"],\n",
    "    [\"servicePoint\", \"Overwrite\"],\n",
    "    [\"subscriberPurchasedChannel\", \"Overwrite\"],\n",
    "    [\"servicePointChannel\", \"Overwrite\"],\n",
    "    [\"servicePointPackage\", \"Overwrite\"],\n",
    "    [\"subscriber\", \"Overwrite\"],\n",
    "    [\"subscriberPurchasedMovie\", \"Overwrite\"],\n",
    "    [\"subscriberPurchasedPackage\", \"Overwrite\"],\n",
    "    [\"tag\", \"Overwrite\"],\n",
    "    [\"tariff\", \"Overwrite\"],\n",
    "]\n",
    "\n"
   ]
  },
  {
   "cell_type": "code",
   "execution_count": 2,
   "id": "46f153e7-8dd5-4dc6-84a2-b97e99d150f2",
   "metadata": {
    "execution": {
     "iopub.execute_input": "2023-10-31T04:25:14.492964Z",
     "iopub.status.busy": "2023-10-31T04:25:14.491497Z",
     "iopub.status.idle": "2023-10-31T04:29:02.735700Z",
     "shell.execute_reply": "2023-10-31T04:29:02.733652Z",
     "shell.execute_reply.started": "2023-10-31T04:25:14.492893Z"
    },
    "tags": []
   },
   "outputs": [
    {
     "name": "stdout",
     "output_type": "stream",
     "text": [
      "['behavior', 'Append']\n",
      "['channel', 'Overwrite']\n",
      "['channelMsg', 'Overwrite']\n",
      "['channelTag', 'Overwrite']\n",
      "['epg', 'Append']\n",
      "['favorites', 'Overwrite']\n",
      "['movie', 'Overwrite']\n",
      "['package', 'Overwrite']\n",
      "['packageChannel', 'Overwrite']\n",
      "['purchase', 'Overwrite']\n",
      "['servicePoint', 'Overwrite']\n",
      "['subscriberPurchasedChannel', 'Overwrite']\n",
      "['servicePointChannel', 'Overwrite']\n",
      "['servicePointPackage', 'Overwrite']\n",
      "['subscriber', 'Overwrite']\n",
      "['subscriberPurchasedMovie', 'Overwrite']\n",
      "['subscriberPurchasedPackage', 'Overwrite']\n",
      "['tag', 'Overwrite']\n",
      "['tariff', 'Overwrite']\n"
     ]
    }
   ],
   "source": [
    "for table in tables:\n",
    "    print(table)\n",
    "    spark.read.json(\n",
    "        f\"s3a://bronze/team-tv/live/{table[0]}.json.gz\"\n",
    "    ).write.option(\"mergeSchema\", \"true\").mode(table[1]).format(\"delta\").save(f\"s3a://silver/team-tv/{table[0]}\")"
   ]
  },
  {
   "cell_type": "code",
   "execution_count": null,
   "id": "b9b10aec-ffdf-45e8-8eee-f8b29a36c729",
   "metadata": {},
   "outputs": [],
   "source": []
  }
 ],
 "metadata": {
  "kernelspec": {
   "display_name": "PySpark L cluster",
   "language": "",
   "name": "pyspark-l"
  },
  "language_info": {
   "codemirror_mode": {
    "name": "ipython",
    "version": 3
   },
   "file_extension": ".py",
   "mimetype": "text/x-python",
   "name": "python",
   "nbconvert_exporter": "python",
   "pygments_lexer": "ipython3",
   "version": "3.10.11"
  }
 },
 "nbformat": 4,
 "nbformat_minor": 5
}
