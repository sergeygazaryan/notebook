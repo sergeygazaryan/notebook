{
 "cells": [
  {
   "cell_type": "code",
   "execution_count": null,
   "id": "initialize-spark",
   "metadata": {
     "language": "python"
   },
   "outputs": [],
   "source": [
    "# Create a DataFrame\n",
    "data = [\n",
    "    (\"Alice\", 34), \n",
    "    (\"Bob\", 45), \n",
    "    (\"Cathy\", 29)\n",
    "]\n",
    "columns = [\"Name\", \"Age\"]\n",
    "df = spark.createDataFrame(data, columns)\n",
    "\n",
    "# Register the DataFrame as a SQL temporary view\n",
    "df.createOrReplaceTempView(\"people\")"
   ]
  },
  {
   "cell_type": "code",
   "execution_count": null,
   "id": "sql-query",
   "metadata": {
     "language": "sql"
   },
   "outputs": [],
   "source": [
    "SELECT count(*) as count FROM people WHERE Age > 30"
   ]
  }
 ],
 "metadata": {
  "kernelspec": {
   "display_name": "Python 3",
   "language": "python",
   "name": "python3"
  },
  "language_info": {
   "codemirror_mode": {
    "name": "ipython",
    "version": 3
   },
   "file_extension": ".py",
   "mimetype": "text/x-python",
   "name": "python",
   "nbconvert_exporter": "python",
   "pygments_lexer": "ipython3",
   "version": "3.8.8"
  }
 },
 "nbformat": 4,
 "nbformat_minor": 5
}
