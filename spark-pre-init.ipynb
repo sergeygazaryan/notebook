{
 "cells": [
  {
   "cell_type": "code",
   "execution_count": null,
   "id": "xcom_output",
   "metadata": {},
   "outputs": [],
   "source": [
    "data_array = [\"Apache Spark\", \"is\", \"a unified analytics engine\", \"for large-scale data processing.\"]\n",
    "rdd = spark.sparkContext.parallelize(data_array)\n",
    "num_elements = rdd.count()\n",
    "print(f\"Number of elements in the RDD: {num_elements}\")\n",
    "num_words = rdd.flatMap(lambda line: line.split(\" \")).count()\n",
    "print(f\"Number of words in the RDD: {num_words}\")\n",
    "\n",
    "# Push results to XCom\n",
    "output = {'num_elements': num_elements, 'num_words': num_words}\n",
    "print(json.dumps(output))\n"
   ]
  }
 ],
 "metadata": {
  "kernelspec": {
   "display_name": "Python 3",
   "language": "python",
   "name": "python3"
  },
  "language_info": {
   "codemirror_mode": {
    "name": "ipython",
    "version": 3
   },
   "file_extension": ".py",
   "mimetype": "text/x-python",
   "name": "python",
   "nbconvert_exporter": "python",
   "pygments_lexer": "ipython3",
   "version": "3.8.8"
  }
 },
 "nbformat": 4,
 "nbformat_minor": 5
}
